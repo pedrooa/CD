{
 "cells": [
  {
   "cell_type": "markdown",
   "metadata": {},
   "source": [
    "# Ciência dos Dados - PROJETO 1"
   ]
  },
  {
   "cell_type": "markdown",
   "metadata": {},
   "source": [
    "## Pedro Oliveira de Azambuja"
   ]
  },
  {
   "cell_type": "markdown",
   "metadata": {},
   "source": [
    "## O Crescimento do acesso a Internet"
   ]
  },
  {
   "cell_type": "markdown",
   "metadata": {},
   "source": [
    "## Introdução\n",
    "\n",
    "Nesse projeto analisarei se a classe social de um indivíduo ainda é ou se está deixando de ser um fator que determina se ele possui acesso a Internet ou não."
   ]
  },
  {
   "cell_type": "code",
   "execution_count": 2,
   "metadata": {
    "collapsed": true
   },
   "outputs": [],
   "source": [
    "%matplotlib inline\n",
    "import pandas as pd\n",
    "import matplotlib.pyplot as plt\n",
    "import numpy as np\n",
    "import os"
   ]
  },
  {
   "cell_type": "code",
   "execution_count": 3,
   "metadata": {},
   "outputs": [
    {
     "name": "stdout",
     "output_type": "stream",
     "text": [
      "Esperamos trabalhar no diretório\n",
      "/Users/pedroazambuja/Ciencia dos Dados\n"
     ]
    }
   ],
   "source": [
    "print('Esperamos trabalhar no diretório')\n",
    "print(os.getcwd())"
   ]
  },
  {
   "cell_type": "markdown",
   "metadata": {},
   "source": [
    "# PNAD DE 2013"
   ]
  },
  {
   "cell_type": "code",
   "execution_count": 4,
   "metadata": {
    "collapsed": true
   },
   "outputs": [],
   "source": [
    "DOM2013 = pd.read_csv('DOM2013.csv',sep=',')\n",
    "dados2013 = DOM2013.loc[:,[\"UF\",\"V02322\",\"V4614\",\"V4621\"]]\n",
    "\n",
    "#Filtrando para o Estado de SP\n",
    "dados2013 = dados2013[dados2013.UF == 35]\n",
    "\n",
    "\n",
    "#Mudando a categoria das variáveis\n",
    "dados2013.V02322 = dados2013.V02322.astype(\"category\")\n",
    "\n",
    "\n",
    "#Rotulando os valores\n",
    "dados2013.V02322.cat.categories = (['sim', 'não'])\n",
    "\n",
    "\n",
    "#Rotulando as colunas\n",
    "dados2013 = dados2013.rename(columns={\"V02322\":\"acesso_a_Internet\"})\n",
    "dados2013 = dados2013.rename(columns={\"V4614\":\"Renda_Domiciliar\"})\n",
    "dados2013 = dados2013.rename(columns={\"V4621\":\"Renda_per_capita\"})\n",
    "\n",
    "\n",
    "#Filtrando os valores não declarados de Renda\n",
    "dados2013=dados2013[dados2013[\"Renda_Domiciliar\"]!= 999999999999.0]\n",
    "dados2013=dados2013[dados2013[\"Renda_per_capita\"]!= 999999999999.0]\n",
    "\n",
    "\n",
    "dados2013 = dados2013[pd.notnull(dados2013.acesso_a_Internet)&pd.notnull(dados2013.Renda_Domiciliar)\\\n",
    "                               &pd.notnull(dados2013.Renda_per_capita)]\n",
    "\n",
    "dados2013.to_csv(\"resumo.csv\")\n"
   ]
  },
  {
   "cell_type": "markdown",
   "metadata": {},
   "source": [
    "# PNAD DE 2014"
   ]
  },
  {
   "cell_type": "code",
   "execution_count": 5,
   "metadata": {
    "collapsed": true
   },
   "outputs": [],
   "source": [
    "#OBJ: Analisar como cresceu relativamente o acesso a Internet entre as classes sociais em 2013,2014,2015\n",
    "#Obj1 : Analisar a discrepância do acesso a internet entre as faixas de riqueza\n",
    "#Obj2 : Se crescimentos de renda são acompanhados de crescimentos no acesso a Internet\n",
    "\n",
    "DOM2014 = pd.read_csv('DOM2014.csv',sep=',')\n",
    "dados2014 = DOM2014.loc[:,[\"UF\",\"V02322\",\"V4614\",\"V4621\"]]\n",
    "\n",
    "#Filtrando para o Estado de SP\n",
    "dados2014 = dados2014[dados2014.UF == 35]\n",
    "\n",
    "\n",
    "#Mudando a categoria das variáveis\n",
    "dados2014.V02322 = dados2014.V02322.astype(\"category\")\n",
    "\n",
    "\n",
    "#Rotulando os valores\n",
    "dados2014.V02322.cat.categories = (['sim', 'não'])\n",
    "\n",
    "\n",
    "#Rotulando as colunas\n",
    "dados2014 = dados2014.rename(columns={\"V02322\":\"acesso_a_Internet\"})\n",
    "dados2014 = dados2014.rename(columns={\"V4614\":\"Renda_Domiciliar\"})\n",
    "dados2014 = dados2014.rename(columns={\"V4621\":\"Renda_per_capita\"})\n",
    "\n",
    "\n",
    "#Filtrando os valores não declarados de Renda\n",
    "dados2014=dados2014[dados2014[\"Renda_Domiciliar\"]!= 999999999999.0]\n",
    "dados2014=dados2014[dados2014[\"Renda_per_capita\"]!= 999999999999.0]\n",
    "\n",
    "\n",
    "dados2014 = dados2014[pd.notnull(dados2014.acesso_a_Internet)&pd.notnull(dados2014.Renda_Domiciliar)\\\n",
    "                               &pd.notnull(dados2014.Renda_per_capita)]\n",
    "\n",
    "dados2014.to_csv(\"resumo2.csv\")\n"
   ]
  },
  {
   "cell_type": "markdown",
   "metadata": {},
   "source": [
    "# PNAD 2015"
   ]
  },
  {
   "cell_type": "code",
   "execution_count": 6,
   "metadata": {
    "collapsed": true
   },
   "outputs": [],
   "source": [
    "DOM2015 = pd.read_csv('DOM2015.csv',sep=',')\n",
    "dados2015 = DOM2015.loc[:,[\"UF\",\"V02322\",\"V4614\",\"V4621\"]]\n",
    "\n",
    "#Filtrando para o Estado de SP\n",
    "dados2015 = dados2015[dados2015.UF == 35]\n",
    "\n",
    "\n",
    "#Mudando a categoria das variáveis\n",
    "dados2015.V02322 = dados2015.V02322.astype(\"category\")\n",
    "\n",
    "\n",
    "#Rotulando os valores\n",
    "dados2015.V02322.cat.categories = (['sim', 'não'])\n",
    "\n",
    "\n",
    "#Rotulando as colunas\n",
    "dados2015 = dados2015.rename(columns={\"V02322\":\"acesso_a_Internet\"})\n",
    "dados2015 = dados2015.rename(columns={\"V4614\":\"Renda_Domiciliar\"})\n",
    "dados2015 = dados2015.rename(columns={\"V4621\":\"Renda_per_capita\"})\n",
    "\n",
    "\n",
    "#Filtrando os valores não declarados de Renda\n",
    "dados2015=dados2015[dados2015[\"Renda_Domiciliar\"]!= 999999999999.0]\n",
    "dados2015=dados2015[dados2015[\"Renda_per_capita\"]!= 999999999999.0]\n",
    "\n",
    "\n",
    "dados2015 = dados2015[pd.notnull(dados2015.acesso_a_Internet)&pd.notnull(dados2015.Renda_Domiciliar)\\\n",
    "                               &pd.notnull(dados2015.Renda_per_capita)]\n",
    "\n",
    "dados2015.to_csv(\"resumo3.csv\")\n"
   ]
  },
  {
   "cell_type": "markdown",
   "metadata": {},
   "source": [
    "# Classificação da Renda em faixas sociais"
   ]
  },
  {
   "cell_type": "code",
   "execution_count": 33,
   "metadata": {
    "collapsed": true
   },
   "outputs": [],
   "source": [
    "#Valores das classes sociais(de acordo com o site G1)\n",
    "baixa = 441\n",
    "media = 1019\n",
    "alta = 2480\n",
    "\n",
    "#2013\n",
    "dados2013.loc[dados2013.Renda_per_capita < baixa, \"Classe\"] = \"baixa\"\n",
    "dados2013.loc[(dados2013.Renda_per_capita > baixa)&(dados2013.Renda_per_capita<media), \"Classe\"] = \"média baixa\"\n",
    "dados2013.loc[(dados2013.Renda_per_capita > media)&(dados2013.Renda_per_capita<alta),'Classe'] = 'média'\n",
    "dados2013.loc[dados2013.Renda_per_capita > alta, \"Classe\"] = \"alta\"\n",
    "\n",
    "#2014\n",
    "dados2014.loc[dados2014.Renda_per_capita < baixa, \"Classe\"] = \"baixa\"\n",
    "dados2014.loc[(dados2014.Renda_per_capita > baixa)&(dados2014.Renda_per_capita<media), \"Classe\"] = \"média baixa\"\n",
    "dados2014.loc[(dados2014.Renda_per_capita > media)&(dados2014.Renda_per_capita<alta),'Classe'] = 'média'\n",
    "dados2014.loc[dados2014.Renda_per_capita > alta, \"Classe\"] = \"alta\"\n",
    "\n",
    "#2015\n",
    "dados2015.loc[dados2015.Renda_per_capita < baixa, \"Classe\"] = \"baixa\"\n",
    "dados2015.loc[(dados2015.Renda_per_capita > baixa)&(dados2015.Renda_per_capita<media), \"Classe\"] = \"média baixa\"\n",
    "dados2015.loc[(dados2015.Renda_per_capita > media)&(dados2014.Renda_per_capita<alta),'Classe'] = 'média'\n",
    "dados2015.loc[dados2015.Renda_per_capita > alta, \"Classe\"] = \"alta\"\n",
    "\n"
   ]
  },
  {
   "cell_type": "code",
   "execution_count": 34,
   "metadata": {},
   "outputs": [
    {
     "data": {
      "text/html": [
       "<div>\n",
       "<style>\n",
       "    .dataframe thead tr:only-child th {\n",
       "        text-align: right;\n",
       "    }\n",
       "\n",
       "    .dataframe thead th {\n",
       "        text-align: left;\n",
       "    }\n",
       "\n",
       "    .dataframe tbody tr th {\n",
       "        vertical-align: top;\n",
       "    }\n",
       "</style>\n",
       "<table border=\"1\" class=\"dataframe\">\n",
       "  <thead>\n",
       "    <tr style=\"text-align: right;\">\n",
       "      <th>Acesso a Internet</th>\n",
       "      <th>sim</th>\n",
       "      <th>não</th>\n",
       "      <th>All</th>\n",
       "    </tr>\n",
       "    <tr>\n",
       "      <th>Classe Social</th>\n",
       "      <th></th>\n",
       "      <th></th>\n",
       "      <th></th>\n",
       "    </tr>\n",
       "  </thead>\n",
       "  <tbody>\n",
       "    <tr>\n",
       "      <th>alta</th>\n",
       "      <td>1333</td>\n",
       "      <td>198</td>\n",
       "      <td>1531</td>\n",
       "    </tr>\n",
       "    <tr>\n",
       "      <th>baixa</th>\n",
       "      <td>901</td>\n",
       "      <td>1172</td>\n",
       "      <td>2073</td>\n",
       "    </tr>\n",
       "    <tr>\n",
       "      <th>média</th>\n",
       "      <td>1351</td>\n",
       "      <td>625</td>\n",
       "      <td>1976</td>\n",
       "    </tr>\n",
       "    <tr>\n",
       "      <th>média baixa</th>\n",
       "      <td>3759</td>\n",
       "      <td>2662</td>\n",
       "      <td>6421</td>\n",
       "    </tr>\n",
       "    <tr>\n",
       "      <th>All</th>\n",
       "      <td>7344</td>\n",
       "      <td>4657</td>\n",
       "      <td>12001</td>\n",
       "    </tr>\n",
       "  </tbody>\n",
       "</table>\n",
       "</div>"
      ],
      "text/plain": [
       "Acesso a Internet   sim   não    All\n",
       "Classe Social                       \n",
       "alta               1333   198   1531\n",
       "baixa               901  1172   2073\n",
       "média              1351   625   1976\n",
       "média baixa        3759  2662   6421\n",
       "All                7344  4657  12001"
      ]
     },
     "execution_count": 34,
     "metadata": {},
     "output_type": "execute_result"
    },
    {
     "data": {
      "image/png": "[encoded data removed]",
      "text/plain": [
       "<matplotlib.figure.Figure at 0x111e957f0>"
      ]
     },
     "metadata": {},
     "output_type": "display_data"
    }
   ],
   "source": [
    "#funcao que converte em porcentagem\n",
    "def percConvert(tab):\n",
    "  return (tab/float(tab[-1])*100).round(decimals=0)\n",
    "\n",
    "#crosstab acesso a internet e classe social\n",
    "ct = pd.crosstab(dados2013.classe,dados2013.acesso_a_Internet,margins = True,rownames = ['Classe Social'],colnames = ['Acesso a Internet'])\n",
    "plot = ct.iloc[:-1,:-1].plot(kind=\"bar\",stacked = True)\n",
    "#plot.set_ylim([0,100])\n",
    "plot\n",
    "ct"
   ]
  },
  {
   "cell_type": "code",
   "execution_count": 35,
   "metadata": {},
   "outputs": [
    {
     "data": {
      "text/html": [
       "<div>\n",
       "<style>\n",
       "    .dataframe thead tr:only-child th {\n",
       "        text-align: right;\n",
       "    }\n",
       "\n",
       "    .dataframe thead th {\n",
       "        text-align: left;\n",
       "    }\n",
       "\n",
       "    .dataframe tbody tr th {\n",
       "        vertical-align: top;\n",
       "    }\n",
       "</style>\n",
       "<table border=\"1\" class=\"dataframe\">\n",
       "  <thead>\n",
       "    <tr style=\"text-align: right;\">\n",
       "      <th>Acesso a Internet</th>\n",
       "      <th>sim</th>\n",
       "      <th>não</th>\n",
       "      <th>All</th>\n",
       "    </tr>\n",
       "    <tr>\n",
       "      <th>Classe Social</th>\n",
       "      <th></th>\n",
       "      <th></th>\n",
       "      <th></th>\n",
       "    </tr>\n",
       "  </thead>\n",
       "  <tbody>\n",
       "    <tr>\n",
       "      <th>alta</th>\n",
       "      <td>738</td>\n",
       "      <td>455</td>\n",
       "      <td>1193</td>\n",
       "    </tr>\n",
       "    <tr>\n",
       "      <th>baixa</th>\n",
       "      <td>768</td>\n",
       "      <td>480</td>\n",
       "      <td>1248</td>\n",
       "    </tr>\n",
       "    <tr>\n",
       "      <th>média</th>\n",
       "      <td>1574</td>\n",
       "      <td>1037</td>\n",
       "      <td>2611</td>\n",
       "    </tr>\n",
       "    <tr>\n",
       "      <th>média baixa</th>\n",
       "      <td>1876</td>\n",
       "      <td>1118</td>\n",
       "      <td>2994</td>\n",
       "    </tr>\n",
       "    <tr>\n",
       "      <th>All</th>\n",
       "      <td>4956</td>\n",
       "      <td>3090</td>\n",
       "      <td>8046</td>\n",
       "    </tr>\n",
       "  </tbody>\n",
       "</table>\n",
       "</div>"
      ],
      "text/plain": [
       "Acesso a Internet   sim   não   All\n",
       "Classe Social                      \n",
       "alta                738   455  1193\n",
       "baixa               768   480  1248\n",
       "média              1574  1037  2611\n",
       "média baixa        1876  1118  2994\n",
       "All                4956  3090  8046"
      ]
     },
     "execution_count": 35,
     "metadata": {},
     "output_type": "execute_result"
    },
    {
     "data": {
      "image/png": "[encoded data removed]",
      "text/plain": [
       "<matplotlib.figure.Figure at 0x111edb3c8>"
      ]
     },
     "metadata": {},
     "output_type": "display_data"
    }
   ],
   "source": [
    "#crosstab acesso a internet e classe social\n",
    "ct = pd.crosstab(dados2014.classe,dados2013.acesso_a_Internet,margins = True,rownames = ['Classe Social'],colnames = ['Acesso a Internet'])\n",
    "plot = ct.iloc[:-1,:-1].plot(kind=\"bar\",stacked = True)\n",
    "#plot.set_ylim([0,100])\n",
    "plot\n",
    "ct"
   ]
  },
  {
   "cell_type": "code",
   "execution_count": 36,
   "metadata": {},
   "outputs": [
    {
     "data": {
      "text/html": [
       "<div>\n",
       "<style>\n",
       "    .dataframe thead tr:only-child th {\n",
       "        text-align: right;\n",
       "    }\n",
       "\n",
       "    .dataframe thead th {\n",
       "        text-align: left;\n",
       "    }\n",
       "\n",
       "    .dataframe tbody tr th {\n",
       "        vertical-align: top;\n",
       "    }\n",
       "</style>\n",
       "<table border=\"1\" class=\"dataframe\">\n",
       "  <thead>\n",
       "    <tr style=\"text-align: right;\">\n",
       "      <th>Acesso a Internet</th>\n",
       "      <th>sim</th>\n",
       "      <th>não</th>\n",
       "      <th>All</th>\n",
       "    </tr>\n",
       "    <tr>\n",
       "      <th>Classe Social</th>\n",
       "      <th></th>\n",
       "      <th></th>\n",
       "      <th></th>\n",
       "    </tr>\n",
       "  </thead>\n",
       "  <tbody>\n",
       "    <tr>\n",
       "      <th>alta</th>\n",
       "      <td>772</td>\n",
       "      <td>429</td>\n",
       "      <td>1201</td>\n",
       "    </tr>\n",
       "    <tr>\n",
       "      <th>baixa</th>\n",
       "      <td>724</td>\n",
       "      <td>453</td>\n",
       "      <td>1177</td>\n",
       "    </tr>\n",
       "    <tr>\n",
       "      <th>média</th>\n",
       "      <td>1073</td>\n",
       "      <td>636</td>\n",
       "      <td>1709</td>\n",
       "    </tr>\n",
       "    <tr>\n",
       "      <th>média baixa</th>\n",
       "      <td>2464</td>\n",
       "      <td>1583</td>\n",
       "      <td>4047</td>\n",
       "    </tr>\n",
       "    <tr>\n",
       "      <th>All</th>\n",
       "      <td>5033</td>\n",
       "      <td>3101</td>\n",
       "      <td>8134</td>\n",
       "    </tr>\n",
       "  </tbody>\n",
       "</table>\n",
       "</div>"
      ],
      "text/plain": [
       "Acesso a Internet   sim   não   All\n",
       "Classe Social                      \n",
       "alta                772   429  1201\n",
       "baixa               724   453  1177\n",
       "média              1073   636  1709\n",
       "média baixa        2464  1583  4047\n",
       "All                5033  3101  8134"
      ]
     },
     "execution_count": 36,
     "metadata": {},
     "output_type": "execute_result"
    },
    {
     "data": {
      "image/png": "[encoded data removed]",
      "text/plain": [
       "<matplotlib.figure.Figure at 0x1159199b0>"
      ]
     },
     "metadata": {},
     "output_type": "display_data"
    }
   ],
   "source": [
    "#crosstab acesso a internet e classe social\n",
    "ct = pd.crosstab(dados2015.classe,dados2013.acesso_a_Internet,margins = True,rownames = ['Classe Social'],colnames = ['Acesso a Internet'])\n",
    "plot = ct.iloc[:-1,:-1].plot(kind=\"bar\",stacked = True)\n",
    "#plot.set_ylim([0,100])\n",
    "plot\n",
    "ct"
   ]
  },
  {
   "cell_type": "markdown",
   "metadata": {},
   "source": [
    "# Encontrando a Relação entre o acesso a Internet e a classe Social"
   ]
  },
  {
   "cell_type": "code",
   "execution_count": 37,
   "metadata": {},
   "outputs": [
    {
     "name": "stdout",
     "output_type": "stream",
     "text": [
      "2013:\n",
      "87.07% daqueles pertencentes a classe alta possuem acesso à Internet\n",
      "58.54% daqueles pertencentes a classe média baixa possuem acesso à Internet\n",
      "\n",
      "2014:\n",
      "88.71% daqueles pertencentes a classe alta possuem acesso à Internet\n",
      "61.97% daqueles pertencentes a classe média baixa possuem acesso à Internet\n",
      "\n",
      "2015:\n",
      "89.71% daqueles pertencentes a classe alta possuem acesso à Internet\n",
      "66.97% daqueles pertencentes a classe média baixa possuem acesso à Internet\n",
      "\n"
     ]
    }
   ],
   "source": [
    "def relacao(df):\n",
    "    a = df[df.classe == \"alta\"]\n",
    "    b = df[df.classe == \"média baixa\"]\n",
    "    relacao_alta = (a.acesso_a_Internet.value_counts()[0]/(a.acesso_a_Internet.value_counts()[0] +\\\n",
    "    a.acesso_a_Internet.value_counts()[1]))*100\n",
    "    \n",
    "    relacao_baixa = (b.acesso_a_Internet.value_counts()[0]/(b.acesso_a_Internet.value_counts()[0] +\\\n",
    "    b.acesso_a_Internet.value_counts()[1]))*100\n",
    "    \n",
    "    return [relacao_alta, relacao_baixa]\n",
    "\n",
    "\n",
    "print(\"2013:\\n{0:.2f}% daqueles pertencentes a classe alta possuem acesso à Internet\\n{1:.2f}% daqueles pertencentes a classe média baixa possuem acesso à Internet\\n\".format(relacao(dados2013)[0],relacao(dados2013)[1]))   \n",
    "print(\"2014:\\n{0:.2f}% daqueles pertencentes a classe alta possuem acesso à Internet\\n{1:.2f}% daqueles pertencentes a classe média baixa possuem acesso à Internet\\n\".format(relacao(dados2014)[0],relacao(dados2014)[1]))   \n",
    "print(\"2015:\\n{0:.2f}% daqueles pertencentes a classe alta possuem acesso à Internet\\n{1:.2f}% daqueles pertencentes a classe média baixa possuem acesso à Internet\\n\".format(relacao(dados2015)[0],relacao(dados2015)[1]))   \n"
   ]
  },
  {
   "cell_type": "code",
   "execution_count": 38,
   "metadata": {},
   "outputs": [
    {
     "data": {
      "image/png": "[encoded data removed]",
      "text/plain": [
       "<matplotlib.figure.Figure at 0x111d9a2e8>"
      ]
     },
     "metadata": {},
     "output_type": "display_data"
    }
   ],
   "source": [
    "L1 = [relacao(dados2013)[0],relacao(dados2014)[0],relacao(dados2015)[0]]\n",
    "L2 = [relacao(dados2013)[1],relacao(dados2014)[1],relacao(dados2015)[1]]\n",
    "\n",
    "tempo = [1,2,3]\n",
    "\n",
    "plt.plot(tempo,L1,label = 'Classe Alta')\n",
    "plt.plot(tempo,L2,label = 'Classe média baixa')\n",
    "plt.title(\"Progressão do acesso a Internet com o tempo\")\n",
    "plt.xlabel(\"Anos\")\n",
    "plt.ylabel(\"Porcentagem de Acesso\")\n",
    "plt.show()\n",
    "\n",
    "\n"
   ]
  },
  {
   "cell_type": "code",
   "execution_count": null,
   "metadata": {
    "collapsed": true
   },
   "outputs": [],
   "source": []
  },
  {
   "cell_type": "code",
   "execution_count": null,
   "metadata": {
    "collapsed": true
   },
   "outputs": [],
   "source": []
  },
  {
   "cell_type": "code",
   "execution_count": null,
   "metadata": {
    "collapsed": true
   },
   "outputs": [],
   "source": []
  },
  {
   "cell_type": "code",
   "execution_count": null,
   "metadata": {
    "collapsed": true
   },
   "outputs": [],
   "source": []
  }
 ],
 "metadata": {
  "kernelspec": {
   "display_name": "Python 3",
   "language": "python",
   "name": "python3"
  },
  "language_info": {
   "codemirror_mode": {
    "name": "ipython",
    "version": 3
   },
   "file_extension": ".py",
   "mimetype": "text/x-python",
   "name": "python",
   "nbconvert_exporter": "python",
   "pygments_lexer": "ipython3",
   "version": "3.6.1"
  }
 },
 "nbformat": 4,
 "nbformat_minor": 2
}
